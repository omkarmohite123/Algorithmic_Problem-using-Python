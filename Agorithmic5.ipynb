{
  "nbformat": 4,
  "nbformat_minor": 0,
  "metadata": {
    "colab": {
      "provenance": [],
      "authorship_tag": "ABX9TyNis/eoJLzN/Km0DcvRHMjs",
      "include_colab_link": true
    },
    "kernelspec": {
      "name": "python3",
      "display_name": "Python 3"
    },
    "language_info": {
      "name": "python"
    }
  },
  "cells": [
    {
      "cell_type": "markdown",
      "metadata": {
        "id": "view-in-github",
        "colab_type": "text"
      },
      "source": [
        "<a href=\"https://colab.research.google.com/github/omkarmohite123/Algorithmic_Problem-using-Python/blob/main/Agorithmic5.ipynb\" target=\"_parent\"><img src=\"https://colab.research.google.com/assets/colab-badge.svg\" alt=\"Open In Colab\"/></a>"
      ]
    },
    {
      "cell_type": "code",
      "source": [
        "\"\"\"\n",
        "Given a number N and K followed by N elements and K elements. Now insert the given K elements one by one into the array and print the maximum in the array after each insertion .\n",
        "Input Size : K <= N <= 10000(read about priority queues and implement)\n",
        "Sample Testcase :\n",
        "INPUT\n",
        "5 2\n",
        "1 2 3 4 5\n",
        "5 4\n",
        "OUTPUT\n",
        "5 5\n",
        "\"\"\""
      ],
      "metadata": {
        "id": "zd1Y0Oj8v_Sg"
      },
      "execution_count": null,
      "outputs": []
    },
    {
      "cell_type": "code",
      "source": [
        "b,c=list(input().split())\n",
        "l=list(map(str,input().split()))\n",
        "e=input().split()\n",
        "l.append(b)\n",
        "\n",
        "j=sorted(l,reverse=True)\n",
        "print(*j[:2])"
      ],
      "metadata": {
        "colab": {
          "base_uri": "https://localhost:8080/"
        },
        "id": "gO7vxa3Rv_dl",
        "outputId": "1cbf62fb-1845-422a-804b-878cc9a1f693"
      },
      "execution_count": 41,
      "outputs": [
        {
          "output_type": "stream",
          "name": "stdout",
          "text": [
            "5 2\n",
            "1 2 3 4 5\n",
            "5 4\n",
            "5 5\n"
          ]
        }
      ]
    }
  ]
}