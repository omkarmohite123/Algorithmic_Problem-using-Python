{
  "nbformat": 4,
  "nbformat_minor": 0,
  "metadata": {
    "colab": {
      "provenance": [],
      "authorship_tag": "ABX9TyNv1FsO5o8XDgqNbNJKoOOH",
      "include_colab_link": true
    },
    "kernelspec": {
      "name": "python3",
      "display_name": "Python 3"
    },
    "language_info": {
      "name": "python"
    }
  },
  "cells": [
    {
      "cell_type": "markdown",
      "metadata": {
        "id": "view-in-github",
        "colab_type": "text"
      },
      "source": [
        "<a href=\"https://colab.research.google.com/github/omkarmohite123/Algorithmic_Problem-using-Python/blob/main/Agorithmic4.ipynb\" target=\"_parent\"><img src=\"https://colab.research.google.com/assets/colab-badge.svg\" alt=\"Open In Colab\"/></a>"
      ]
    },
    {
      "cell_type": "code",
      "source": [
        "\"\"\"\n",
        "Given a number N, print their prime factors in sorted order.\n",
        "Input Size : 2 <= N <= 100000\n",
        "Sample Testcase :\n",
        "INPUT\n",
        "18\n",
        "OUTPUT\n",
        "2 3\n",
        "\"\"\""
      ],
      "metadata": {
        "id": "wS2gZc82vveZ"
      },
      "execution_count": null,
      "outputs": []
    },
    {
      "cell_type": "code",
      "source": [
        "\n",
        "a=int(input())\n",
        "c=[]\n",
        "d=[]\n",
        "for i in range(2,a+1):\n",
        "  if i > 1:\n",
        "      for j in range(2,i):\n",
        "          if (i % j)==0:\n",
        "             break\n",
        "      else:\n",
        "        c.append(i)\n",
        "for k in  c:\n",
        "  if a % k==0:\n",
        "      d.append(k)\n",
        "print(*d)"
      ],
      "metadata": {
        "colab": {
          "base_uri": "https://localhost:8080/"
        },
        "id": "iLrNEbMYvvpM",
        "outputId": "74375b5d-c6a3-412f-ae4a-085635f19b53"
      },
      "execution_count": 40,
      "outputs": [
        {
          "output_type": "stream",
          "name": "stdout",
          "text": [
            "18\n",
            "2 3\n"
          ]
        }
      ]
    }
  ]
}