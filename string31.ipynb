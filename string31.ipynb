{
  "nbformat": 4,
  "nbformat_minor": 0,
  "metadata": {
    "colab": {
      "provenance": [],
      "authorship_tag": "ABX9TyOP9hUNsPb12bZrjGZC1SFc",
      "include_colab_link": true
    },
    "kernelspec": {
      "name": "python3",
      "display_name": "Python 3"
    },
    "language_info": {
      "name": "python"
    }
  },
  "cells": [
    {
      "cell_type": "markdown",
      "metadata": {
        "id": "view-in-github",
        "colab_type": "text"
      },
      "source": [
        "<a href=\"https://colab.research.google.com/github/omkarmohite123/Algorithmic_Problem-using-Python/blob/main/string31.ipynb\" target=\"_parent\"><img src=\"https://colab.research.google.com/assets/colab-badge.svg\" alt=\"Open In Colab\"/></a>"
      ]
    },
    {
      "cell_type": "code",
      "source": [
        "\"\"\"\n",
        "You are provided with an array. Your task is to print the count of subarray whose maximum element is strictly greater than ‘k’.\n",
        "\n",
        "Input Description:\n",
        "First line contains two element ‘N’ and ‘k’.Second line contains ‘n’ space separated numbers.\n",
        "\n",
        "Output Description:\n",
        "Print the count of subarray whose maximum element’s value is strictly greater than ‘k’.\n",
        "\n",
        "Sample Input :\n",
        "5 4\n",
        "1 6 7 8 9\n",
        "Sample Output :\n",
        "14\n",
        "\n",
        "\n",
        "\"\"\""
      ],
      "metadata": {
        "id": "_CvcHcYpeOe-"
      },
      "execution_count": null,
      "outputs": []
    },
    {
      "cell_type": "code",
      "source": [
        "\n",
        "def countSubarray(arr, n, k):\n",
        "\n",
        "\ts = 0\n",
        "\n",
        "\n",
        "\ti = 0\n",
        "\twhile (i < n):\n",
        "\t\n",
        "\t\tif (arr[i] > k):\n",
        "\t\t\n",
        "\t\t\ti = i + 1\n",
        "\t\t\tcontinue\n",
        "\t\t\n",
        "\t\tcount = 0\n",
        "\t\twhile (i < n and arr[i] <= k):\n",
        "\t\t\n",
        "\t\t\ti = i + 1\n",
        "\t\t\tcount = count + 1\n",
        "\t\ts = s + ((count*(count + 1))//2)\n",
        "\t\n",
        "\n",
        "\treturn (n*(n + 1)//2 - s)\n",
        "\t\n",
        "\n",
        "\n",
        "n,k=list(map(int,input().split()))\n",
        "arr=list(map(int,input().split()))\n",
        "\n",
        "\n",
        "print(countSubarray(arr, n, k))"
      ],
      "metadata": {
        "colab": {
          "base_uri": "https://localhost:8080/"
        },
        "id": "qEPcRktQeOqV",
        "outputId": "8a9c46f7-99da-4ff1-8d70-688568dd53d9"
      },
      "execution_count": 13,
      "outputs": [
        {
          "output_type": "stream",
          "name": "stdout",
          "text": [
            "5 4\n",
            "1 6 7 8 9\n",
            "14\n"
          ]
        }
      ]
    }
  ]
}