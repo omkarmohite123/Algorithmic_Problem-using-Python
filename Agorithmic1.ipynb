{
  "nbformat": 4,
  "nbformat_minor": 0,
  "metadata": {
    "colab": {
      "provenance": [],
      "authorship_tag": "ABX9TyNS3QcDZZ7+2rwZuxX1qzCt",
      "include_colab_link": true
    },
    "kernelspec": {
      "name": "python3",
      "display_name": "Python 3"
    },
    "language_info": {
      "name": "python"
    }
  },
  "cells": [
    {
      "cell_type": "markdown",
      "metadata": {
        "id": "view-in-github",
        "colab_type": "text"
      },
      "source": [
        "<a href=\"https://colab.research.google.com/github/omkarmohite123/Algorithmic_Problem-using-Python/blob/main/Agorithmic1.ipynb\" target=\"_parent\"><img src=\"https://colab.research.google.com/assets/colab-badge.svg\" alt=\"Open In Colab\"/></a>"
      ]
    },
    {
      "cell_type": "code",
      "source": [
        "\"\"\"\n",
        "Given a number N and an array of N elements, every number is repeated except for one. Print that one number.\n",
        "Input Size : 1 <= N <= 100000\n",
        "Sample Testcase :\n",
        "INPUT\n",
        "10\n",
        "1 2 3 2 3 3 2 5 5 2\n",
        "OUTPUT\n",
        "1\n",
        "\"\"\""
      ],
      "metadata": {
        "id": "KkOftX6Duj4x"
      },
      "execution_count": null,
      "outputs": []
    },
    {
      "cell_type": "code",
      "source": [
        "\n",
        "a=int(input())\n",
        "b=list(map(int,input().split()))\n",
        "s=[]\n",
        "for i in range(len(b)):\n",
        "  if b.count(b[i])==1:\n",
        "       s.append(b[i])\n",
        "print(*s)"
      ],
      "metadata": {
        "colab": {
          "base_uri": "https://localhost:8080/"
        },
        "id": "ZkuEnFHnukIT",
        "outputId": "56244896-93c2-4d70-af7b-c26427005cd0"
      },
      "execution_count": 37,
      "outputs": [
        {
          "output_type": "stream",
          "name": "stdout",
          "text": [
            "10\n",
            "1 2 3 2 3 3 2 5 5 2\n",
            "1\n"
          ]
        }
      ]
    }
  ]
}