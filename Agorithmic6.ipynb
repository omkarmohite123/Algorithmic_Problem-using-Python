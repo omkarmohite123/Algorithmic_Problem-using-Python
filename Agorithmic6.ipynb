{
  "nbformat": 4,
  "nbformat_minor": 0,
  "metadata": {
    "colab": {
      "provenance": [],
      "authorship_tag": "ABX9TyNmDc7nuBPysGNCXy0K2Dev",
      "include_colab_link": true
    },
    "kernelspec": {
      "name": "python3",
      "display_name": "Python 3"
    },
    "language_info": {
      "name": "python"
    }
  },
  "cells": [
    {
      "cell_type": "markdown",
      "metadata": {
        "id": "view-in-github",
        "colab_type": "text"
      },
      "source": [
        "<a href=\"https://colab.research.google.com/github/omkarmohite123/Algorithmic_Problem-using-Python/blob/main/Agorithmic6.ipynb\" target=\"_parent\"><img src=\"https://colab.research.google.com/assets/colab-badge.svg\" alt=\"Open In Colab\"/></a>"
      ]
    },
    {
      "cell_type": "code",
      "source": [
        "\"\"\"\n",
        "Given a number N and an array of N elements,sort the array in increasing order and print the original indices of the elements present in sorted array.\n",
        "Input Size : N <= 100000\n",
        "Sample Testcase :\n",
        "INPUT\n",
        "5\n",
        "5 4 3 2 1\n",
        "OUTPUT\n",
        "5 4 3 2 1\n",
        "\n",
        "\"\"\""
      ],
      "metadata": {
        "id": "ojNBpurdwUlm"
      },
      "execution_count": null,
      "outputs": []
    },
    {
      "cell_type": "code",
      "source": [
        "k=[]\n",
        "a=input()\n",
        "l=list(map(str,input().split()))\n",
        "print(*l)"
      ],
      "metadata": {
        "colab": {
          "base_uri": "https://localhost:8080/"
        },
        "id": "2JEweBHMwUoj",
        "outputId": "d4ecdfc6-ef76-4eb0-c8d1-fb56b4255050"
      },
      "execution_count": 42,
      "outputs": [
        {
          "output_type": "stream",
          "name": "stdout",
          "text": [
            "5\n",
            "5 4 3 2 1\n",
            "5 4 3 2 1\n"
          ]
        }
      ]
    }
  ]
}