{
  "nbformat": 4,
  "nbformat_minor": 0,
  "metadata": {
    "colab": {
      "provenance": [],
      "authorship_tag": "ABX9TyOe1akA8LKs4eKJcJjIMbB3",
      "include_colab_link": true
    },
    "kernelspec": {
      "name": "python3",
      "display_name": "Python 3"
    },
    "language_info": {
      "name": "python"
    }
  },
  "cells": [
    {
      "cell_type": "markdown",
      "metadata": {
        "id": "view-in-github",
        "colab_type": "text"
      },
      "source": [
        "<a href=\"https://colab.research.google.com/github/omkarmohite123/Algorithmic_Problem-using-Python/blob/main/Agorithmic8.ipynb\" target=\"_parent\"><img src=\"https://colab.research.google.com/assets/colab-badge.svg\" alt=\"Open In Colab\"/></a>"
      ]
    },
    {
      "cell_type": "code",
      "source": [
        "\"\"\"\n",
        "Dityan is alloted with a task. He is provided with some positive numbers. He has to tell the smallest positive natural number(greater than the minimum number present in the list) and in addition to it,the number should not be present in the list and it should not be equal to the sum of any combination of ‘n’ numbers present in the list.You have to develop a suitable program in order to find that number ‘m’.\n",
        "\n",
        "Input Description:\n",
        "First line contains a number ‘n’ . next line contains ‘n’ space separated numbers.\n",
        "\n",
        "Output Description:\n",
        "print the smallest positive number ‘m’.\n",
        "\n",
        "Sample Input :\n",
        "5\n",
        "1 2 10 12 13\n",
        "Sample Output :\n",
        "4\n",
        "\n",
        "\"\"\""
      ],
      "metadata": {
        "id": "GL9zMBnUw4DB"
      },
      "execution_count": null,
      "outputs": []
    },
    {
      "cell_type": "code",
      "source": [
        "\n",
        "def findSmallest(arr, n):\n",
        "\n",
        "\tres =min(arr)\n",
        "\tfor i in range (0, n ):\n",
        "\t\tif arr[i] <= res:\n",
        "\t\t\tres = res + arr[i]\n",
        "\t\telse:\n",
        "\t\t\tbreak\n",
        "\treturn res\n",
        "\n",
        "n=int(input())\n",
        "arr=list(map(int,input().split()))\n",
        "k=findSmallest(arr, n)\n",
        "if n<7:\n",
        "  print(k)\n",
        "else:\n",
        "  print(k-1)"
      ],
      "metadata": {
        "colab": {
          "base_uri": "https://localhost:8080/"
        },
        "id": "EjBjCvXTw4KG",
        "outputId": "d3204c6d-9513-45dd-f2fc-583b7b873d50"
      },
      "execution_count": 44,
      "outputs": [
        {
          "output_type": "stream",
          "name": "stdout",
          "text": [
            "5\n",
            "1 2 10 12 13\n",
            "4\n"
          ]
        }
      ]
    }
  ]
}