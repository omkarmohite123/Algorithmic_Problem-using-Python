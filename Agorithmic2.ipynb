{
  "nbformat": 4,
  "nbformat_minor": 0,
  "metadata": {
    "colab": {
      "provenance": [],
      "authorship_tag": "ABX9TyODoqm04G0S2O3RusMUgn9P",
      "include_colab_link": true
    },
    "kernelspec": {
      "name": "python3",
      "display_name": "Python 3"
    },
    "language_info": {
      "name": "python"
    }
  },
  "cells": [
    {
      "cell_type": "markdown",
      "metadata": {
        "id": "view-in-github",
        "colab_type": "text"
      },
      "source": [
        "<a href=\"https://colab.research.google.com/github/omkarmohite123/Algorithmic_Problem-using-Python/blob/main/Agorithmic2.ipynb\" target=\"_parent\"><img src=\"https://colab.research.google.com/assets/colab-badge.svg\" alt=\"Open In Colab\"/></a>"
      ]
    },
    {
      "cell_type": "code",
      "source": [
        "\"\"\"\n",
        "Given 2 numbers N,K followed by a sorted array of N elements, search and tell if an element K is present in the array.print 'yes' if element is present otherwise print 'no'.\n",
        "Input Size : 1 <= N <= 1000000000000000(Do it in logN time complexity)\n",
        "Sample Testcase :\n",
        "INPUT\n",
        "3 2\n",
        "2 3 7\n",
        "OUTPUT\n",
        "Yes\n",
        "\"\"\""
      ],
      "metadata": {
        "id": "Te1Xen8xu_as"
      },
      "execution_count": null,
      "outputs": []
    },
    {
      "cell_type": "code",
      "source": [
        "\n",
        "a,b=input().split()\n",
        "l=list(map(str,input().split()))\n",
        "k=[]\n",
        "for i in l:\n",
        "  if i==b:\n",
        "    k.append(i)\n",
        "    \n",
        "if k==[]:\n",
        "  print(\"no\")\n",
        "else:\n",
        "   print(\"yes\")"
      ],
      "metadata": {
        "colab": {
          "base_uri": "https://localhost:8080/"
        },
        "id": "DLS4dbjuvNQZ",
        "outputId": "ed835b72-f3d2-4ea5-9958-5b2550ae4bad"
      },
      "execution_count": 38,
      "outputs": [
        {
          "output_type": "stream",
          "name": "stdout",
          "text": [
            "3 2\n",
            "2 3 7\n",
            "yes\n"
          ]
        }
      ]
    }
  ]
}