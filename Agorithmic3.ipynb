{
  "nbformat": 4,
  "nbformat_minor": 0,
  "metadata": {
    "colab": {
      "provenance": [],
      "authorship_tag": "ABX9TyMSlBFlw4679t/UWYY1rBK+",
      "include_colab_link": true
    },
    "kernelspec": {
      "name": "python3",
      "display_name": "Python 3"
    },
    "language_info": {
      "name": "python"
    }
  },
  "cells": [
    {
      "cell_type": "markdown",
      "metadata": {
        "id": "view-in-github",
        "colab_type": "text"
      },
      "source": [
        "<a href=\"https://colab.research.google.com/github/omkarmohite123/Algorithmic_Problem-using-Python/blob/main/Agorithmic3.ipynb\" target=\"_parent\"><img src=\"https://colab.research.google.com/assets/colab-badge.svg\" alt=\"Open In Colab\"/></a>"
      ]
    },
    {
      "cell_type": "code",
      "source": [
        "\"\"\"\n",
        "Given a number N followed by an array of N integers, every element appears twice except for one. Find that single one and print it.\n",
        "Input Size : N <= 100000\n",
        "Sample Testcase :\n",
        "INPUT\n",
        "5\n",
        "30 5 5 30 -45\n",
        "OUTPUT\n",
        "-45\n",
        "\"\"\""
      ],
      "metadata": {
        "id": "DZyVG-11vb5w"
      },
      "execution_count": null,
      "outputs": []
    },
    {
      "cell_type": "code",
      "source": [
        "b=input()\n",
        "l=list(map(str,input().split()))\n",
        "d=[]\n",
        "m=[]\n",
        "for i in range(len(l)):\n",
        "    if l.count(l[i])==1:\n",
        "        d.append(l[i])\n",
        "    else:\n",
        "        m.append(l[i])\n",
        "if l==[]:\n",
        "  print(\"-1\")\n",
        "else:\n",
        "  print(*d)"
      ],
      "metadata": {
        "colab": {
          "base_uri": "https://localhost:8080/"
        },
        "id": "QmGMHtMevcCB",
        "outputId": "61a547d3-2f68-4035-9348-d7135fa7c44e"
      },
      "execution_count": 39,
      "outputs": [
        {
          "output_type": "stream",
          "name": "stdout",
          "text": [
            "5\n",
            "30 5 5 30 -45\n",
            "-45\n"
          ]
        }
      ]
    }
  ]
}