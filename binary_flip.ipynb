{
  "nbformat": 4,
  "nbformat_minor": 0,
  "metadata": {
    "colab": {
      "provenance": [],
      "authorship_tag": "ABX9TyNaEjSAsVQ9bXjmb3V2PTea",
      "include_colab_link": true
    },
    "kernelspec": {
      "name": "python3",
      "display_name": "Python 3"
    },
    "language_info": {
      "name": "python"
    }
  },
  "cells": [
    {
      "cell_type": "markdown",
      "metadata": {
        "id": "view-in-github",
        "colab_type": "text"
      },
      "source": [
        "<a href=\"https://colab.research.google.com/github/omkarmohite123/Algorithmic_Problem-using-Python/blob/main/binary_flip.ipynb\" target=\"_parent\"><img src=\"https://colab.research.google.com/assets/colab-badge.svg\" alt=\"Open In Colab\"/></a>"
      ]
    },
    {
      "cell_type": "markdown",
      "source": [
        "#:Check if all bits can be made same by single flip ?\n",
        "\n",
        "\n",
        "---\n",
        "\n",
        "\n",
        "Given a binary string, find if it is possible to make all its digits equal (either all 0’s or all 1’s) by flipping exactly one bit. \n",
        "\n",
        "\n",
        "---\n",
        "\n",
        "\n",
        "Input: 101\n",
        "\n",
        "Output: Yes\n",
        "Explanation: In 101, the 0 can be flipped\n",
        "             to make it all 1\n",
        "\n",
        "\n",
        "\n",
        "---\n",
        "\n",
        "\n",
        "\n",
        "Input: 11\n",
        "\n",
        "\n",
        "Output: No\n",
        "Explanation: No matter whichever digit you \n",
        "  flip, you will not get the desired string.\n",
        "\n",
        "\n",
        "---\n",
        "\n"
      ],
      "metadata": {
        "id": "6Bt65usj6KrT"
      }
    },
    {
      "cell_type": "code",
      "source": [
        "def makesame(str):\n",
        "  zeros=0\n",
        "  ones=0\n",
        "  for k in range(0,len(str)):\n",
        "    ch=str[k]\n",
        "    if ch==\"0\":\n",
        "      zeros=zeros+1\n",
        "    else:\n",
        "      ones=ones+1\n",
        "  return (zeros==1 or ones==1)\n",
        "a=int(input())\n",
        "c=[input() for i in range(a)]\n",
        "for i in c:\n",
        "  if makesame(i)==True:\n",
        "    print(\"Yes\")\n",
        "  else:\n",
        "    print(\"No\")"
      ],
      "metadata": {
        "colab": {
          "base_uri": "https://localhost:8080/"
        },
        "id": "XYVcZXOC5J4w",
        "outputId": "0cb503f7-0256-4255-ebaa-9af2b4b15939"
      },
      "execution_count": 4,
      "outputs": [
        {
          "output_type": "stream",
          "name": "stdout",
          "text": [
            "2\n",
            "101\n",
            "11\n",
            "Yes\n",
            "No\n"
          ]
        }
      ]
    }
  ]
}