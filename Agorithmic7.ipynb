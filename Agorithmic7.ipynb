{
  "nbformat": 4,
  "nbformat_minor": 0,
  "metadata": {
    "colab": {
      "provenance": [],
      "authorship_tag": "ABX9TyPOqBasA2QrS7tmMd91BTFG",
      "include_colab_link": true
    },
    "kernelspec": {
      "name": "python3",
      "display_name": "Python 3"
    },
    "language_info": {
      "name": "python"
    }
  },
  "cells": [
    {
      "cell_type": "markdown",
      "metadata": {
        "id": "view-in-github",
        "colab_type": "text"
      },
      "source": [
        "<a href=\"https://colab.research.google.com/github/omkarmohite123/Algorithmic_Problem-using-Python/blob/main/Agorithmic7.ipynb\" target=\"_parent\"><img src=\"https://colab.research.google.com/assets/colab-badge.svg\" alt=\"Open In Colab\"/></a>"
      ]
    },
    {
      "cell_type": "code",
      "source": [
        "\"\"\"\n",
        "Maxwell wants to buy an apartment in a new house at Line Avenue of Metropolis. The house has n apartments that are numbered from 1 to n and are arranged in a row. Two apartments are adjacent if their indices differ by 1. Some of the apartments can already be inhabited, others are available for sale. Maxwell often visits his neighbors, so apartment is good for him if it is available for sale and there is at least one already inhabited apartment adjacent to it. Maxwell knows that there are exactly k already inhabited apartments, but he doesn't know their indices yet. Find out what could be the minimum possible and the maximum possible number of apartments that are good for Maxwell.\n",
        "Input Size : N<=K<=1000000000\n",
        "Example:\n",
        "INPUT\n",
        "6 3\n",
        "OUTPUT\n",
        "1 3\n",
        "\n",
        "\"\"\""
      ],
      "metadata": {
        "id": "2wmgR2PrwmGj"
      },
      "execution_count": null,
      "outputs": []
    },
    {
      "cell_type": "code",
      "source": [
        "\n",
        "n, k = list(map(int, input().split()))\n",
        " \n",
        "if k == 0 or k == n:\n",
        "    print(0, 0)\n",
        "else:\n",
        "    mmin = 1\n",
        "    mmax = 2 * k\n",
        "    if k > n // 3:\n",
        "        mmax = n - k\n",
        "    print(mmin, mmax)\n",
        " "
      ],
      "metadata": {
        "colab": {
          "base_uri": "https://localhost:8080/"
        },
        "id": "oCpO-8luwmO0",
        "outputId": "878e756f-af3d-4079-cde7-c175f232d213"
      },
      "execution_count": 43,
      "outputs": [
        {
          "output_type": "stream",
          "name": "stdout",
          "text": [
            "6 3\n",
            "1 3\n"
          ]
        }
      ]
    }
  ]
}